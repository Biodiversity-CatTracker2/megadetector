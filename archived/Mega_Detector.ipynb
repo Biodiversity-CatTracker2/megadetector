{
 "cells": [
  {
   "cell_type": "code",
   "execution_count": null,
   "metadata": {
    "id": "ErGuTtX_Z_vf"
   },
   "outputs": [],
   "source": [
    "!nvidia-smi"
   ]
  },
  {
   "cell_type": "markdown",
   "metadata": {
    "id": "OYV_5q2XXLa0"
   },
   "source": [
    "# Setup"
   ]
  },
  {
   "cell_type": "code",
   "execution_count": null,
   "metadata": {
    "id": "YpFnkxCtWeQt"
   },
   "outputs": [],
   "source": [
    "!yes | pip uninstall tensorflow\n",
    "\n",
    "!pip install tensorflow-gpu==1.13.1 humanfriendly jsonpickle\n",
    "\n",
    "import tensorflow as tf\n",
    "print(tf.__version__)\n",
    "\n",
    "!wget -O /content/megadetector_v4_1_0.pb https://lilablobssc.blob.core.windows.net/models/camera_traps/megadetector/md_v4.1.0/md_v4.1.0.pb\n",
    "\n",
    "!git clone https://github.com/microsoft/CameraTraps\n",
    "!git clone https://github.com/microsoft/ai4eutils\n",
    "\n",
    "!cp /content/CameraTraps/detection/run_tf_detector_batch.py .\n",
    "!cp /content/CameraTraps/visualization/visualize_detector_output.py .\n",
    "\n",
    "import json\n",
    "import os\n",
    "import shutil\n",
    "from pathlib import Path\n",
    "\n",
    "from tqdm import tqdm\n",
    "\n",
    "os.environ['PYTHONPATH'] += \":/content/ai4eutils\"\n",
    "os.environ['PYTHONPATH'] += \":/content/CameraTraps\"\n",
    "!echo \"PYTHONPATH: $PYTHONPATH\""
   ]
  },
  {
   "cell_type": "markdown",
   "metadata": {
    "id": "c8Fe8HkpXPFn"
   },
   "source": [
    "# Get Raw Data"
   ]
  },
  {
   "cell_type": "code",
   "execution_count": null,
   "metadata": {
    "id": "v7jktIqoxIq3"
   },
   "outputs": [],
   "source": [
    "#@title Connect to Google Drive\n",
    "from google.colab import drive\n",
    "drive.mount('/content/drive')\n",
    "\n",
    "google_drive_folder_name = 'sample' #@param {type: \"string\"}\n",
    "images_dir = '/content/drive/My Drive/' + google_drive_folder_name\n",
    "\n",
    "!ls \"$images_dir\"\n",
    "\n",
    "Path(f'{images_dir}/output').mkdir(exist_ok=True)\n",
    "Path(f'{images_dir}/output/no_detections').mkdir(exist_ok=True)\n",
    "Path(f'{images_dir}/output/with_detections_and_bb').mkdir(exist_ok=True)\n",
    "Path(f'{images_dir}/output/with_detections').mkdir(exist_ok=True)"
   ]
  },
  {
   "cell_type": "markdown",
   "metadata": {
    "id": "Yrh18bV0XdH7"
   },
   "source": [
    "# Run The Model"
   ]
  },
  {
   "cell_type": "code",
   "execution_count": null,
   "metadata": {
    "id": "2q6f6pTWW3v9"
   },
   "outputs": [],
   "source": [
    "# choose a location for the output JSON file\n",
    "output_file_path = f'{images_dir}/output' + '/data.json'\n",
    "!python run_tf_detector_batch.py megadetector_v4_1_0.pb \"$images_dir\" \"$output_file_path\" --recursive"
   ]
  },
  {
   "cell_type": "markdown",
   "metadata": {
    "id": "1BO7r2ImXf7o"
   },
   "source": [
    "# Get The Results"
   ]
  },
  {
   "cell_type": "code",
   "execution_count": null,
   "metadata": {
    "id": "cHu7Oi0FW6ld"
   },
   "outputs": [],
   "source": [
    "visualization_dir = '/content/viz'  # pick a location for annotated images\n",
    "\n",
    "!python visualize_detector_output.py \"$output_file_path\" \"$visualization_dir\" --confidence 0.01 --images_dir \"$images_dir\""
   ]
  },
  {
   "cell_type": "code",
   "execution_count": null,
   "metadata": {
    "id": "Gh54rQHybobo"
   },
   "outputs": [],
   "source": [
    "def categorize(string):\n",
    "  return string.replace('1', 'animal').replace('2', 'person').replace('3', 'vehicle')\n",
    "\n",
    "\n",
    "with open(output_file_path) as j:\n",
    "  data = json.load(j)\n",
    "\n",
    "%cd CameraTraps\n",
    "from data_management.annotations.annotation_constants import (\n",
    "    detector_bbox_category_id_to_name)\n",
    "from visualization import visualization_utils as vis_utils\n",
    "%cd .."
   ]
  },
  {
   "cell_type": "code",
   "execution_count": null,
   "metadata": {
    "id": "DrIU2e8TeTJk"
   },
   "outputs": [],
   "source": [
    "Path(f'{images_dir}/output/no_detections').mkdir(exist_ok=True)\n",
    "\n",
    "display_images_here = False #@param {type: \"boolean\"}\n",
    "if display_images_here:\n",
    "  if len(data['images']) > 20:\n",
    "    print('There are too many images to display! View the images on Google Drive.')\n",
    "    display_images_here = False\n",
    "\n",
    "copy_images_to_drive = False #@param {type: \"boolean\"}\n",
    "\n",
    "for image in tqdm(data['images']):\n",
    "    if not image['detections']:\n",
    "        im = vis_utils.resize_image(\n",
    "                vis_utils.open_image(image['file']), 700)\n",
    "        if display_images_here:\n",
    "            display(im)\n",
    "        if copy_images_to_drive:\n",
    "            out_path = f'{images_dir}/output/no_detections/{Path(image[\"file\"]).name}'\n",
    "            if not Path(out_path).exists():\n",
    "                shutil.copy2(image['file'], out_path)"
   ]
  },
  {
   "cell_type": "code",
   "execution_count": null,
   "metadata": {
    "id": "losaZZIJfC_J"
   },
   "outputs": [],
   "source": [
    "Path(f'{images_dir}/output/with_detections_and_bb').mkdir(exist_ok=True)\n",
    "Path(f'{images_dir}/output/with_detections').mkdir(exist_ok=True)\n",
    "\n",
    "min_detection_conf_to_save = \"0.5\" #@param {type: \"string\"}\n",
    "\n",
    "display_images_here = False #@param {type: \"boolean\"}\n",
    "if display_images_here:\n",
    "    if len(data['images']) > 20:\n",
    "        print('There are too many images to display! View the images on Google Drive.')\n",
    "        display_images_here = False\n",
    "\n",
    "copy_images_to_drive = False #@param {type: \"boolean\"}\n",
    "\n",
    "for image in data['images']:\n",
    "  if image['detections']:\n",
    "    if image['max_detection_conf'] >= float(min_detection_conf_to_save):\n",
    "        print('-' * 79)\n",
    "        print(image['file'])\n",
    "        res = [(categorize(x['category']), x['conf']) for x in image['detections']]\n",
    "        for n, x in enumerate(res):\n",
    "            print(f'{n + 1}. {x[0]} (conf: {x[1]})')\n",
    "\n",
    "        img_file = visualization_dir + '/anno_' + images_dir.replace('/', '~') + '~' + Path(image['file']).name\n",
    "        im = vis_utils.resize_image(vis_utils.open_image(img_file), 700)\n",
    "        \n",
    "        if display_images_here:\n",
    "            display(im)\n",
    "\n",
    "        if copy_images_to_drive:\n",
    "            out_path_with_bb = f'{images_dir}/output/with_detections_and_bb/{Path(img_file).name}'\n",
    "            if not Path(out_path_with_bb).exists():\n",
    "                shutil.copy2(img_file, out_path_with_bb)\n",
    "            out_path = f'{images_dir}/output/with_detections/{Path(image[\"file\"]).name}'\n",
    "            if not Path(out_path).exists():\n",
    "                shutil.copy2(image[\"file\"], out_path)\n"
   ]
  }
 ],
 "metadata": {
  "accelerator": "GPU",
  "colab": {
   "collapsed_sections": [],
   "name": "Mega_Detector.ipynb",
   "provenance": []
  },
  "kernelspec": {
   "display_name": "Python 3",
   "name": "python3"
  },
  "language_info": {
   "name": "python"
  }
 },
 "nbformat": 4,
 "nbformat_minor": 0
}
